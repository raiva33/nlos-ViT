{
 "cells": [
  {
   "cell_type": "code",
   "execution_count": null,
   "metadata": {},
   "outputs": [],
   "source": [
    "import matplotlib.pyplot as plt\n",
    "from PIL import Image\n",
    "import numpy as np\n",
    "import os\n",
    "\n",
    "# Path to the folder containing images\n",
    "folder_path = 'path/to/your/folder'\n",
    "\n",
    "# Filename of the ground truth image\n",
    "ground_truth_filename = 'ground_truth.png'\n",
    "ground_truth_image = Image.open(os.path.join(folder_path, ground_truth_filename))\n",
    "ground_truth = np.array(ground_truth_image) / 255.0\n",
    "\n",
    "# List all files except the ground truth\n",
    "image_files = [f for f in os.listdir(folder_path) if f != ground_truth_filename]\n",
    "\n",
    "# Plot each prediction with the corresponding ground truth\n",
    "for prediction_file in image_files:\n",
    "    prediction_image = Image.open(os.path.join(folder_path, prediction_file))\n",
    "    prediction = np.array(prediction_image) / 255.0\n",
    "    \n",
    "    fig, (ax1, ax2) = plt.subplots(1, 2, figsize=(10, 5))\n",
    "    \n",
    "    ax1.imshow(prediction)\n",
    "    ax1.set_title('Prediction')\n",
    "    ax1.axis('off')\n",
    "    \n",
    "    ax2.imshow(ground_truth)\n",
    "    ax2.set_title('Ground Truth')\n",
    "    ax2.axis('off')\n",
    "    \n",
    "    plt.show()\n"
   ]
  }
 ],
 "metadata": {
  "language_info": {
   "name": "python"
  },
  "orig_nbformat": 4
 },
 "nbformat": 4,
 "nbformat_minor": 2
}
